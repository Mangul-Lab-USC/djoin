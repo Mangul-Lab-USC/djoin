{
 "cells": [
  {
   "cell_type": "code",
   "execution_count": 1,
   "metadata": {},
   "outputs": [],
   "source": [
    "# input all the fasta files into assembler per species. make flags to indicate which databases are contributing to outcome. "
   ]
  },
  {
   "cell_type": "markdown",
   "metadata": {},
   "source": [
    "# Strains that have only Contigs"
   ]
  },
  {
   "cell_type": "code",
   "execution_count": 7,
   "metadata": {
    "scrolled": true
   },
   "outputs": [
    {
     "name": "stdout",
     "output_type": "stream",
     "text": [
      "strain_with_contigs_only 211\n"
     ]
    }
   ],
   "source": [
    "import numpy as np\n",
    "import matplotlib.pyplot as plt\n",
    "from matplotlib.pyplot import figure\n",
    "from matplotlib import rc\n",
    "import pandas as pd\n",
    "import sqlite3\n",
    "\n",
    "cnx = sqlite3.connect(r'/Users/aaronkarlsberg/Desktop/djoin/data/refSeqFungiStats.db')\n",
    "strain_with_contigs_only = pd.read_sql_query(\"SELECT STRAINTAXID FROM speciesdb where chromosome_count = 0 AND contig_count > 0 AND STRAINTAXID !=0 Group by STRAINTAXID HAVING COUNT(DISTINCT DBNAME) > 1\", cnx)\n",
    "\n",
    "print(\"strain_with_contigs_only\", strain_with_contigs_only.size)\n",
    "\n",
    "\n",
    "# canu requires approximate genome size as input: for now we take average contig length and multiply by the total number of contigs within a single fasta file. The mazimum between fasta files for a species will serve as the approximate genome length.\n",
    "def generate_canu_command_file_for_strain_contigs(filepaths, contributing_databases, approx_genome_length, strainTaxid):\n",
    "    approx_genome_length = str(approx_genome_length)\n",
    "    files = []\n",
    "    for file in filepaths:\n",
    "        files.append(file.strip())\n",
    "    files = ' -i '.join(files)\n",
    "#     print(files)\n",
    "    distinct_databases = set(contributing_databases)\n",
    "    distinct_database_count = str(len(distinct_databases))\n",
    "    contributing_databases = '_'.join(contributing_databases)\n",
    "    new_file_name = strainTaxid +\"_\" + distinct_database_count + \"_contributing_databases_\" + contributing_databases\n",
    "    shell_script= open(\"/Users/aaronkarlsberg/Desktop/djoin/wtdbg_shell_scripts/contig_only_strain_assembly_wtdbg_shell_command_script.sh\",\"a+\")\n",
    "    make_strain_directory = \"mkdir /u/home/a/akarlsbe/scratch/strain_contig_only_assemblies/\"+ strainTaxid +\" && cd /u/home/a/akarlsbe/scratch/strain_contig_only_assemblies/\" + strainTaxid +\"\\n\"\n",
    "    generate_assembly_command_wtdbg2 = \"/u/home/a/akarlsbe/wtdbg2/wtdbg2 -x rs -g \" + approx_genome_length + \" -i \"+ files + \" -t 16 -fo \" + new_file_name + \"\\n\"\n",
    "    generate_consensus_command_wtpoa = \"/u/home/a/akarlsbe/wtdbg2/wtpoa-cns -t 16 -i \" + new_file_name + \".ctg.lay.gz -fo \"+ new_file_name +\".raw.fa\\n\"\n",
    "    shell_script.write(make_strain_directory)\n",
    "    shell_script.write(generate_assembly_command_wtdbg2)\n",
    "    shell_script.write(generate_consensus_command_wtpoa)\n",
    "    shell_script.close()\n",
    "    \n",
    "    strain_contig_csv = open(\"/Users/aaronkarlsberg/Desktop/djoin/code/strain_contig.csv\", \"a+\")\n",
    "    tax_id_and_file_path = strainTaxid + \",/u/home/a/akarlsbe/scratch/strain_contig_only_assemblies/\" + strainTaxid + \"/\"+ new_file_name + \".raw.fa\\n\"\n",
    "    strain_contig_csv.write(tax_id_and_file_path)\n",
    "    strain_contig_csv.close()\n",
    "    return\n",
    "\n",
    "for index, row in strain_with_contigs_only.iterrows():\n",
    "    strain_tax_id = str(row[\"STRAINTAXID\"])\n",
    "    strain_filepaths_query = pd.read_sql_query(\"SELECT FILEPATH, DBNAME, contig_count, avg_length_contig FROM speciesdb where STRAINTAXID = \"+ strain_tax_id +\" AND chromosome_count = 0 AND contig_count > 0 \", cnx)\n",
    "    strain_filepaths_list = []\n",
    "    strain_databases = []\n",
    "    contig_counts = []\n",
    "    avg_contig_lengths = []\n",
    "    for indexL, rowL in strain_filepaths_query.iterrows():\n",
    "        strain_filepaths_list.append(rowL[\"FILEPATH\"])\n",
    "        strain_databases.append(rowL[\"DBNAME\"])\n",
    "        contig_counts.append(rowL[\"contig_count\"])\n",
    "        avg_contig_lengths.append(rowL[\"avg_length_contig\"])\n",
    "        genome_lengths = []\n",
    "        for i in range(0,len(contig_counts)):\n",
    "            genome_lengths.append(contig_counts[i] * avg_contig_lengths[i])\n",
    "        approx_genome_length = max(genome_lengths)\n",
    "    generate_canu_command_file_for_strain_contigs(strain_filepaths_list, strain_databases, approx_genome_length, strain_tax_id)  \n",
    "    \n",
    "# print(strain_filepaths_list, strain_databases, contig_counts,avg_contig_lengths)\n",
    "\n",
    "#    generate_canu_command = \"/u/home/a/akarlsbe/scratch/canu-1.8/*/bin/canu -d /u/home/a/akarlsbe/scratch/strain_contig_only_assemblies/\"+ strainTaxid +\"_\"+distinct_database_count+\"_contributing_databases_\"+ contributing_databases +\" genomeSize=\"+ approx_genome_length +\" -nanopore-raw \" + files +\" useGrid=false stopOnLowCoverage=2\\n\""
   ]
  },
  {
   "cell_type": "markdown",
   "metadata": {},
   "source": [
    "# DATA ANALYSIS FOR CONSENSUS CONTIGS OF STRAINS"
   ]
  },
  {
   "cell_type": "code",
   "execution_count": 99,
   "metadata": {},
   "outputs": [
    {
     "name": "stdout",
     "output_type": "stream",
     "text": [
      "211\n",
      "211\n",
      "211\n",
      "211\n",
      "211\n"
     ]
    }
   ],
   "source": [
    "import numpy as np\n",
    "import matplotlib.pyplot as plt\n",
    "from matplotlib.pyplot import figure\n",
    "from matplotlib import rc\n",
    "import pandas as pd\n",
    "import sqlite3\n",
    "\n",
    "cnx = sqlite3.connect(r'/Users/aaronkarlsberg/Desktop/djoin/data/refSeqFungiStats.db')\n",
    "consensus_strain_contigs = pd.read_sql_query(\"SELECT * FROM strain_contig_consensus_db\", cnx)\n",
    "contig_only_strain_taxids = []\n",
    "\n",
    "# CONSENSUS\n",
    "\n",
    "consensus_contig_count = []\n",
    "consensus_contig_avg = []\n",
    "consensus_contig_max = []\n",
    "consensus_contig_min = []\n",
    "\n",
    "for index, row in consensus_strain_contigs.iterrows():\n",
    "    contig_only_strain_taxids.append(str(row[\"STRAINTAXID\"]))\n",
    "    consensus_contig_count.append(str(row[\"contig_count\"]))\n",
    "    consensus_contig_avg.append(str(row[\"avg_length_contig\"]))\n",
    "    consensus_contig_max.append(str(row[\"max_length_contig\"]))\n",
    "    consensus_contig_min.append(str(row[\"min_length_contig\"]))\n",
    "\n",
    "    \n",
    "    \n",
    "    \n",
    "# ONEK\n",
    "    \n",
    "onek_contig_count = []\n",
    "onek_contig_avg = []\n",
    "onek_contig_max = []\n",
    "onek_contig_min = []\n",
    "\n",
    "for strain in contig_only_strain_taxids:\n",
    "    og_strain = pd.read_sql_query(\"SELECT * FROM speciesdb where DBNAME = '1K' AND chromosome_count = 0 AND contig_count > 0 AND STRAINTAXID =\" + str(strain) + \" LIMIT 1\", cnx)\n",
    "    if og_strain.size == 0:\n",
    "        onek_contig_count.append(0)\n",
    "        onek_contig_avg.append(0)\n",
    "        onek_contig_max.append(0)\n",
    "        onek_contig_min.append(0)\n",
    "    else:\n",
    "        for index, row in og_strain.iterrows():\n",
    "            onek_contig_count.append(row[\"contig_count\"])\n",
    "            onek_contig_avg.append(row[\"avg_length_contig\"])\n",
    "            onek_contig_max.append(row[\"max_length_contig\"])\n",
    "            onek_contig_min.append(row[\"min_length_contig\"])\n",
    "            \n",
    "            \n",
    "# NCBI\n",
    "\n",
    "NCBI_contig_count = []\n",
    "NCBI_contig_avg = []\n",
    "NCBI_contig_max = []\n",
    "NCBI_contig_min = []\n",
    "\n",
    "for strain in contig_only_strain_taxids:\n",
    "    og_strain = pd.read_sql_query(\"SELECT * FROM speciesdb where DBNAME = 'NCBI' AND chromosome_count = 0 AND contig_count > 0 AND STRAINTAXID =\" + str(strain)+ \" LIMIT 1\", cnx)\n",
    "    if og_strain.size == 0:\n",
    "        NCBI_contig_count.append(0)\n",
    "        NCBI_contig_avg.append(0)\n",
    "        NCBI_contig_max.append(0)\n",
    "        NCBI_contig_min.append(0)\n",
    "    else:\n",
    "        for index, row in og_strain.iterrows():\n",
    "            NCBI_contig_count.append(row[\"contig_count\"])\n",
    "            NCBI_contig_avg.append(row[\"avg_length_contig\"])\n",
    "            NCBI_contig_max.append(row[\"max_length_contig\"])\n",
    "            NCBI_contig_min.append(row[\"min_length_contig\"])\n",
    "\n",
    "            \n",
    "# FUNGIDB\n",
    "\n",
    "FUNGIDB_contig_count = []\n",
    "FUNGIDB_contig_avg = []\n",
    "FUNGIDB_contig_max = []\n",
    "FUNGIDB_contig_min = []\n",
    "\n",
    "for strain in contig_only_strain_taxids:\n",
    "    og_strain = pd.read_sql_query(\"SELECT * FROM speciesdb where DBNAME = 'FUNGIDB' AND chromosome_count = 0 AND contig_count > 0 AND STRAINTAXID =\" + str(strain) + \" LIMIT 1\", cnx)\n",
    "    if og_strain.size == 0:\n",
    "        FUNGIDB_contig_count.append(0)\n",
    "        FUNGIDB_contig_avg.append(0)\n",
    "        FUNGIDB_contig_max.append(0)\n",
    "        FUNGIDB_contig_min.append(0)\n",
    "    else:\n",
    "        for index, row in og_strain.iterrows():\n",
    "            FUNGIDB_contig_count.append(row[\"contig_count\"])\n",
    "            FUNGIDB_contig_avg.append(row[\"avg_length_contig\"])\n",
    "            FUNGIDB_contig_max.append(row[\"max_length_contig\"])\n",
    "            FUNGIDB_contig_min.append(row[\"min_length_contig\"])\n",
    "        \n",
    "\n",
    "# ENSEMBLE\n",
    "ENSEMBLE_contig_count = []\n",
    "ENSEMBLE_contig_avg = []\n",
    "ENSEMBLE_contig_max = []\n",
    "ENSEMBLE_contig_min = []\n",
    "\n",
    "for strain in contig_only_strain_taxids:\n",
    "    og_strain = pd.read_sql_query(\"SELECT * FROM speciesdb where DBNAME = 'ENSEMBLE' AND chromosome_count = 0 AND contig_count > 0 AND STRAINTAXID =\" + str(strain) + \" LIMIT 1\", cnx)\n",
    "    if og_strain.size == 0:\n",
    "        ENSEMBLE_contig_count.append(0)\n",
    "        ENSEMBLE_contig_avg.append(0)\n",
    "        ENSEMBLE_contig_max.append(0)\n",
    "        ENSEMBLE_contig_min.append(0)\n",
    "    else:\n",
    "        for index, row in og_strain.iterrows():\n",
    "#             print(str(row[\"contig_count\"]))\n",
    "            ENSEMBLE_contig_count.append(row[\"contig_count\"])\n",
    "            ENSEMBLE_contig_avg.append(row[\"avg_length_contig\"])\n",
    "            ENSEMBLE_contig_max.append(row[\"max_length_contig\"])\n",
    "            ENSEMBLE_contig_min.append(row[\"min_length_contig\"])\n",
    "\n",
    "\n",
    "print(len(contig_only_strain_taxids))\n",
    "print(len(consensus_contig_count))\n",
    "print(len(ENSEMBLE_contig_count))\n",
    "print(len(onek_contig_count))\n",
    "print(len(FUNGIDB_contig_count))\n",
    "print(len(NCBI_contig_count))\n",
    "\n",
    "\n",
    "\n",
    "\n",
    "\n",
    "# strain = 246409 this ex is not in 1k\n",
    "# contig_count_1k = pd.read_sql_query(\"SELECT * FROM speciesdb where DBNAME = '1K' AND STRAINTAXID =\" + str(strain), cnx)\n",
    "\n",
    "# print(contig_count_1k.size)\n",
    "\n",
    "# contig_count_ENSEMBLE = pd.read_sql_query(\"SELECT contig_count FROM speciesdb where DBNAME = 'ENSEMBLE' AND STRAINTAXID = 237561 AND chromosome_count = 0 AND contig_count > 0 LIMIT 1\", cnx)\n",
    "\n",
    "# for index, row in contig_count_ENSEMBLE.iterrows():\n",
    "#     print(str(row[\"contig_count\"]))\n",
    "    \n",
    "\n",
    "\n",
    "# for strain in contig_only_strain_taxids:\n",
    "#     pd.read_sql_query(\"SELECT contig_count FROM speciesdb where DBNAME = 1K AND STRAINTAXID =\" + str(strain), cnx)\n",
    "    "
   ]
  },
  {
   "cell_type": "code",
   "execution_count": 265,
   "metadata": {},
   "outputs": [
    {
     "name": "stdout",
     "output_type": "stream",
     "text": [
      "96\n",
      "29178\n",
      "0\n",
      "29178\n",
      "4782\n"
     ]
    },
    {
     "data": {
      "image/png": "[encoded data removed]",
      "text/plain": [
       "<Figure size 432x288 with 1 Axes>"
      ]
     },
     "metadata": {},
     "output_type": "display_data"
    }
   ],
   "source": [
    "import numpy as np\n",
    "import matplotlib.pyplot as plt\n",
    "from matplotlib.pyplot import figure\n",
    "from matplotlib import rc\n",
    "import seaborn as sns\n",
    "import pandas as pd\n",
    "import sqlite3\n",
    "\n",
    "# df = pd.DataFrame([[consensus_contigs, unique_strain], [4.9, 3.0], [7.0, 3.2], [6.4, 3.2], [5.9, 3.0]],columns=['Number Of Contigs', 'Unique Strain'])\n",
    "\n",
    "print(max(consensus_contig_count))\n",
    "print(max(ENSEMBLE_contig_count))\n",
    "print(max(NCBI_contig_count))\n",
    "print(max(onek_contig_count))\n",
    "print(max(FUNGIDB_contig_count))\n",
    "\n",
    "\n",
    "consensus_contigs_df = []\n",
    "for x in range(len(consensus_contig_count)):\n",
    "    consensus_contigs_df.append([int(consensus_contig_count[x]), x])\n",
    "\n",
    "\n",
    "\n",
    "NCBI_contigs_df = []\n",
    "for x in range(len(NCBI_contig_count)):\n",
    "    NCBI_contigs_df.append([int(NCBI_contig_count[x]), x])\n",
    "    \n",
    "count = 0\n",
    "for x in range(len(NCBI_contigs_df)):\n",
    "    x=x-count\n",
    "    if NCBI_contigs_df[x][0] == 0:\n",
    "        NCBI_contigs_df.pop(x)\n",
    "        count +=1 \n",
    "\n",
    "\n",
    "    \n",
    "ENSEMBLE_contigs_df = []\n",
    "for x in range(len(ENSEMBLE_contig_count)):\n",
    "    ENSEMBLE_contigs_df.append([int(ENSEMBLE_contig_count[x]), x])\n",
    "\n",
    "count = 0\n",
    "for x in range(len(ENSEMBLE_contigs_df)):\n",
    "    x=x-count\n",
    "    if ENSEMBLE_contigs_df[x][0] == 0:\n",
    "        ENSEMBLE_contigs_df.pop(x)\n",
    "        count +=1\n",
    "    \n",
    "\n",
    "    \n",
    "    \n",
    "FUNGIDB_contigs_df = []\n",
    "for x in range(len(FUNGIDB_contig_count)):\n",
    "    FUNGIDB_contigs_df.append([int(FUNGIDB_contig_count[x]), x])\n",
    "\n",
    "count = 0\n",
    "for x in range(len(FUNGIDB_contigs_df)):\n",
    "    x=x-count\n",
    "    if FUNGIDB_contigs_df[x][0] == 0:\n",
    "        FUNGIDB_contigs_df.pop(x)\n",
    "        count +=1    \n",
    "\n",
    "    \n",
    "    \n",
    "JGI1K_contigs_df = []\n",
    "for x in range(len(onek_contig_count)):\n",
    "    JGI1K_contigs_df.append([int(onek_contig_count[x]), x])\n",
    "    \n",
    "count = 0\n",
    "for x in range(len(JGI1K_contigs_df)):\n",
    "    x=x-count\n",
    "    if JGI1K_contigs_df[x][0] == 0:\n",
    "        JGI1K_contigs_df.pop(x)\n",
    "        count +=1\n",
    "\n",
    "\n",
    "CONSENSUS_df = pd.DataFrame(consensus_contigs_df, columns=['Number Of Contigs', 'Unique Strain'])\n",
    "# NCBI_df = pd.DataFrame(NCBI_contigs_df, columns=['Number Of Contigs', 'Unique Strain'])\n",
    "NCBI_df = pd.DataFrame([[0,0]], columns=['Number Of Contigs', 'Unique Strain'])\n",
    "ENSEMBLE_df = pd.DataFrame(ENSEMBLE_contigs_df, columns=['Number Of Contigs', 'Unique Strain'])\n",
    "FUNGIDB_df = pd.DataFrame(FUNGIDB_contigs_df, columns=['Number Of Contigs', 'Unique Strain'])\n",
    "JGI1K_df = pd.DataFrame(JGI1K_contigs_df, columns=['Number Of Contigs', 'Unique Strain'])\n",
    "\n",
    "\n",
    "ax = NCBI_df.plot.scatter(x='Number Of Contigs', y='Unique Strain',c='red', label='REFSEQ')\n",
    "ENSEMBLE_df.plot.scatter(ax = ax, x='Number Of Contigs', y='Unique Strain',c='orange', label='ENSEMBL') \n",
    "FUNGIDB_df.plot.scatter(ax = ax, x='Number Of Contigs', y='Unique Strain',c='purple', label='FUNGIDB')\n",
    "JGI1K_df.plot.scatter(ax = ax, x='Number Of Contigs', y='Unique Strain',c='DarkGreen', label='JGI1K')\n",
    "CONSENSUS_df.plot.scatter(ax = ax, x='Number Of Contigs', y='Unique Strain',c='DarkBlue', label='CONSENSUS')\n",
    "\n",
    "\n",
    "g=sns.set_style(\"white\")\n",
    "g=sns.set_context(\"poster\")\n",
    "    \n",
    "# Custom X axis\n",
    "plt.xlabel(\"Number Of Contigs\", fontweight='bold', fontsize=18)\n",
    "plt.xlim(1,5000)\n",
    "\n",
    "# Custom Y axis\n",
    "plt.yticks(r,fontweight='bold', fontsize=4)\n",
    "ax.set_yticklabels([])\n",
    "plt.ylabel('Unique Strains', fontweight='bold', fontsize=18)\n",
    "\n",
    "#  legend\n",
    "plt.legend(bbox_to_anchor=(1.15, .49),frameon=False, fontsize= 14)\n",
    "\n",
    "g=sns.despine()\n",
    "# plt.savefig(\"contig_count_consensus_vs_OG.pdf\", bbox_inches='tight')"
   ]
  },
  {
   "cell_type": "code",
   "execution_count": 233,
   "metadata": {},
   "outputs": [
    {
     "name": "stdout",
     "output_type": "stream",
     "text": [
      "[[4, 3], [7, 5]]\n"
     ]
    }
   ],
   "source": [
    "# lit = [[0,1],[0,2],[4,3],[0,4],[7,5],[0,6],[0,7]]\n",
    "\n",
    "# count = 0\n",
    "# for x in range(len(lit)):\n",
    "#     x=x-count\n",
    "#     if lit[x][0] == 0:\n",
    "#         lit.pop(x)\n",
    "#         count +=1\n",
    "# print(lit)\n"
   ]
  },
  {
   "cell_type": "code",
   "execution_count": null,
   "metadata": {},
   "outputs": [],
   "source": [
    "# filepath= '/u/home/a/akarlsbe/scratch/fungi/ENSEMBLE/Puccinia_graminisug99.v1.dna.toplevel.fa'\n",
    "\n",
    "# contig_count = pd.read_sql_query(\"SELECT DBNAME, contig_count, avg_length_contig FROM speciesdb where straintaxid = 56615 and contig_count>0 and chromosome_count=0 \", cnx)\n",
    "\n",
    "# print(contig_count)\n"
   ]
  },
  {
   "cell_type": "markdown",
   "metadata": {},
   "source": [
    "# Strains that have only Chromosomes"
   ]
  },
  {
   "cell_type": "code",
   "execution_count": 1,
   "metadata": {},
   "outputs": [],
   "source": [
    "import numpy as np\n",
    "import matplotlib.pyplot as plt\n",
    "from matplotlib.pyplot import figure\n",
    "from matplotlib import rc\n",
    "import pandas as pd\n",
    "import sqlite3\n",
    "\n",
    "cnx = sqlite3.connect(r'/Users/aaronkarlsberg/Desktop/djoin/data/refSeqFungiStats.db')\n",
    "strain_with_chromosomes_only = pd.read_sql_query(\"SELECT STRAINTAXID FROM speciesdb where chromosome_count = 0 AND contig_count > 0 AND STRAINTAXID !=0 Group by STRAINTAXID HAVING COUNT(DISTINCT DBNAME) > 1\", cnx)"
   ]
  },
  {
   "cell_type": "markdown",
   "metadata": {},
   "source": [
    "# Strains that have both Chromosomes and Contigs within the same fasta file: \"Mixed Sequence Files\""
   ]
  },
  {
   "cell_type": "code",
   "execution_count": 21,
   "metadata": {},
   "outputs": [],
   "source": [
    "import numpy as np\n",
    "import matplotlib.pyplot as plt\n",
    "from matplotlib.pyplot import figure\n",
    "from matplotlib import rc\n",
    "import pandas as pd\n",
    "import sqlite3\n",
    "\n",
    "cnx = sqlite3.connect(r'/Users/aaronkarlsberg/Desktop/djoin/data/refSeqFungiStats.db')\n",
    "chrom_and_contig_mixed =pd.read_sql_query(\"SELECT * FROM speciesdb where chromosome_count > 0 AND contig_count > 0 AND STRAINTAXID !=0 Group by STRAINTAXID HAVING COUNT(DISTINCT DBNAME) > 1\", cnx)\n",
    "\n"
   ]
  },
  {
   "cell_type": "markdown",
   "metadata": {},
   "source": [
    "# Strains that have only chromosomes and only contigs in seperate databases"
   ]
  },
  {
   "cell_type": "code",
   "execution_count": 36,
   "metadata": {},
   "outputs": [],
   "source": [
    "import numpy as np\n",
    "import matplotlib.pyplot as plt\n",
    "from matplotlib.pyplot import figure\n",
    "from matplotlib import rc\n",
    "import pandas as pd\n",
    "import sqlite3\n",
    "\n",
    "cnx = sqlite3.connect(r'/Users/aaronkarlsberg/Desktop/djoin/data/refSeqFungiStats.db')\n",
    "\n",
    "\n",
    "strain_with_contigs_in_onedb_chrom_in_other = []\n",
    "\n",
    "strain_with_contigs_only = pd.read_sql_query(\"SELECT * FROM SPECIESDB where chromosome_count > 0 AND contig_count = 0 AND STRAINTAXID !=0 Group by STRAINTAXID HAVING COUNT(DISTINCT DBNAME) > 1\", cnx)\n",
    "\n",
    "strain_with_chromosomes_only = pd.read_sql_query(\"SELECT * FROM SPECIESDB where chromosome_count = 0 AND contig_count > 0 AND STRAINTAXID !=0 Group by STRAINTAXID HAVING COUNT(DISTINCT DBNAME) > 1\", cnx)\n",
    "\n",
    "\n",
    "# for indexCont, rowCont in strain_with_contigs_only.iterrows():\n",
    "#     for indexChrom, rowChrom in strain_with_chromosomes_only.iterrows():\n",
    "#         if rowCont[\"STRAINTAXID\"] == rowChrom[\"STRAINTAXID\"]:\n",
    "#             strain_with_contigs_in_onedb_chrom_in_other.append(rowCont[\"STRAINTAXID\"])\n",
    "\n",
    "# # Eliminate dublicates\n",
    "# strain_with_contigs_in_onedb_chrom_in_other = list(dict.fromkeys(strain_with_contigs_in_onedb_chrom_in_other))\n",
    "\n",
    "# print(strain_with_contigs_in_onedb_chrom_in_other)\n",
    "\n",
    "# output of the code that is commented out above. This is to avoid running nested for loop more than once. \n",
    "strain_with_contigs_in_onedb_chrom_in_other = [227321, 237561, 1071382, 1230383, 871575, 665079, 284813, 425011]\n",
    "\n",
    "\n",
    "\n",
    "for straintaxid in strain_with_contigs_in_onedb_chrom_in_other:\n",
    "    pd.read_sql_query(\"select * from SPECIESDB where straintaxid = \"+ str(straintaxid), cnx)\n",
    "\n",
    "\n",
    "\n",
    "\n",
    "\n",
    "\n",
    "\n"
   ]
  },
  {
   "cell_type": "markdown",
   "metadata": {},
   "source": [
    "# Species that have only chromosomes and only contigs in seperate databases"
   ]
  },
  {
   "cell_type": "code",
   "execution_count": 1,
   "metadata": {},
   "outputs": [],
   "source": [
    "import numpy as np\n",
    "import matplotlib.pyplot as plt\n",
    "from matplotlib.pyplot import figure\n",
    "from matplotlib import rc\n",
    "import pandas as pd\n",
    "import sqlite3\n",
    "\n",
    "cnx = sqlite3.connect(r'/Users/aaronkarlsberg/Desktop/djoin/data/refSeqFungiStats.db')\n",
    "\n",
    "species_with_contigs_in_onedb_chrom_in_other = []\n",
    "\n",
    "species_with_contigs_only = pd.read_sql_query(\"SELECT * FROM speciesdb where chromosome_count > 0 AND contig_count = 0 AND SPECIESTAXID !=0 Group by SPECIESTAXID HAVING COUNT(DISTINCT DBNAME) > 1\", cnx)\n",
    "\n",
    "species_with_chromosomes_only = pd.read_sql_query(\"SELECT * FROM speciesdb where chromosome_count = 0 AND contig_count > 0 AND SPECIESTAXID !=0 Group by SPECIESTAXID HAVING COUNT(DISTINCT DBNAME) > 1\", cnx)\n",
    "\n",
    "\n",
    "# for indexCont, rowCont in species_with_contigs_only.iterrows():\n",
    "#     for indexChrom, rowChrom in species_with_chromosomes_only.iterrows():\n",
    "#         if rowCont[\"SPECIESTAXID\"] == rowChrom[\"SPECIESTAXID\"]:\n",
    "#             species_with_contigs_in_onedb_chrom_in_other.append(rowCont[\"SPECIESTAXID\"])\n",
    "\n",
    "# # Eliminate dublicates\n",
    "# species_with_contigs_in_onedb_chrom_in_other = list(dict.fromkeys(species_with_contigs_in_onedb_chrom_in_other))\n",
    "\n",
    "# print(species_with_contigs_in_onedb_chrom_in_other)\n",
    "\n",
    "# output of the code that is commented out above. This is to avoid running nested for loop more than once. \n",
    "species_with_contigs_in_onedb_chrom_in_other = [746128, 162425, 40559, 5476, 5478, 37769, 432096, 76777, 1005962, 5076, 4932, 5180, 4950, 27337, 4952, 4956, 6035, 109760, 5346, 5062, 61459, 263815, 101852, 1033840, 563466, 29908, 68825, 40302, 498019, 1664694, 42068, 4754, 398673, 254056, 856822, 1367422, 280754, 80884, 5619, 104669, 1209926, 4909, 5127, 5061, 5480]\n",
    "\n",
    "\n",
    "for speciestaxid in species_with_contigs_in_onedb_chrom_in_other:\n",
    "    pd.read_sql_query(\"select * from speciesdb where speciestaxid = \"+ str(speciestaxid), cnx)\n",
    "\n",
    "\n"
   ]
  },
  {
   "cell_type": "markdown",
   "metadata": {},
   "source": [
    "# Use cases to revisit:"
   ]
  },
  {
   "cell_type": "code",
   "execution_count": 8,
   "metadata": {},
   "outputs": [],
   "source": [
    "# 72 instances in which the fungi_stats code did not characterize the sequence types contained in the fasta files. This is evident where chromosome and contig counts are zero.\n",
    "\n",
    "unclassified_sequences = pd.read_sql_query(\"SELECT * FROM speciesdb where chromosome_count = 0 AND contig_count = 0 \", cnx).size\n",
    "\n"
   ]
  },
  {
   "cell_type": "code",
   "execution_count": 9,
   "metadata": {},
   "outputs": [
    {
     "name": "stdout",
     "output_type": "stream",
     "text": [
      "782\n",
      "541\n",
      "330\n",
      "211\n",
      "213\n"
     ]
    }
   ],
   "source": [
    "strain_with_contigs_only1 = pd.read_sql_query(\"SELECT STRAINTAXID FROM speciesdb where chromosome_count = 0 AND contig_count > 0 AND STRAINTAXID !=0\", cnx).size\n",
    "print(strain_with_contigs_only1)\n",
    "\n",
    "strain_with_contigs_only = pd.read_sql_query(\"SELECT STRAINTAXID FROM speciesdb where chromosome_count = 0 AND contig_count > 0 AND STRAINTAXID !=0 Group by STRAINTAXID HAVING COUNT(DISTINCT DBNAME) > 0\", cnx).size\n",
    "print(strain_with_contigs_only)\n",
    "\n",
    "strain_with_contigs_only2 = pd.read_sql_query(\"SELECT STRAINTAXID FROM speciesdb where chromosome_count = 0 AND contig_count > 0 AND STRAINTAXID !=0 Group by STRAINTAXID HAVING COUNT(DISTINCT DBNAME) = 1\", cnx).size\n",
    "print(strain_with_contigs_only2)\n",
    "\n",
    "strain_with_contigs_only4 = pd.read_sql_query(\"SELECT STRAINTAXID FROM speciesdb where chromosome_count = 0 AND contig_count > 0 AND STRAINTAXID !=0 Group by STRAINTAXID HAVING COUNT(DISTINCT DBNAME) > 1\", cnx).size\n",
    "print(strain_with_contigs_only4)\n",
    "\n",
    "\n",
    "strain_with_contigs_only3 = pd.read_sql_query(\"SELECT STRAINTAXID FROM speciesdb where chromosome_count = 0 AND contig_count > 0 AND STRAINTAXID !=0 Group by STRAINTAXID HAVING COUNT(STRAINTAXID) > 1\", cnx).size\n",
    "\n",
    "print(strain_with_contigs_only3)\n"
   ]
  },
  {
   "cell_type": "code",
   "execution_count": 17,
   "metadata": {},
   "outputs": [
    {
     "name": "stdout",
     "output_type": "stream",
     "text": [
      "   STRAINTAXID    DBNAME                                           FILEPATH\n",
      "0       237561  ENSEMBLE  /u/home/a/akarlsbe/scratch/fungi/ENSEMBLE/Cand...\n",
      "                                            FILEPATH\n",
      "0  /u/home/a/akarlsbe/scratch/fungi/ENSEMBLE/Cand...\n",
      "1  /u/home/a/akarlsbe/scratch/fungi/ENSEMBLE/Cand...\n",
      "2  /u/home/a/akarlsbe/scratch/fungi/ENSEMBLE/Cand...\n",
      "3  /u/home/a/akarlsbe/scratch/fungi/1K/Canalb1_As...\n",
      "4  /u/home/a/akarlsbe/scratch/fungi/FUNGIDB/Fungi...\n"
     ]
    }
   ],
   "source": [
    "strain_with_contigs_only5 = pd.read_sql_query(\"SELECT STRAINTAXID,DBNAME, filepath FROM speciesdb where STRAINTAXID !=0 Group by STRAINTAXID, DBNAME HAVING COUNT(*) > 2\", cnx)\n",
    "\n",
    "\n",
    "print(strain_with_contigs_only5)\n",
    "\n",
    "example = pd.read_sql_query(\"SELECT filepath FROM speciesdb where STRAINTAXID = 237561\", cnx)\n",
    "print(example)"
   ]
  },
  {
   "cell_type": "code",
   "execution_count": 6,
   "metadata": {},
   "outputs": [
    {
     "name": "stdout",
     "output_type": "stream",
     "text": [
      "7717185\n"
     ]
    }
   ],
   "source": [
    "import re\n",
    "\n",
    "string = '>ctg1 len=7717185'\n",
    "print(re.findall(r\"\\d+\", string)[1])\n"
   ]
  },
  {
   "cell_type": "code",
   "execution_count": null,
   "metadata": {},
   "outputs": [],
   "source": []
  }
 ],
 "metadata": {
  "kernelspec": {
   "display_name": "Python 3",
   "language": "python",
   "name": "python3"
  },
  "language_info": {
   "codemirror_mode": {
    "name": "ipython",
    "version": 3
   },
   "file_extension": ".py",
   "mimetype": "text/x-python",
   "name": "python",
   "nbconvert_exporter": "python",
   "pygments_lexer": "ipython3",
   "version": "3.6.8"
  }
 },
 "nbformat": 4,
 "nbformat_minor": 2
}
